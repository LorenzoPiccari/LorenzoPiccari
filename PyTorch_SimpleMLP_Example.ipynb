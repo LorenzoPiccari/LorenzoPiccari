{
  "cells": [
    {
      "cell_type": "markdown",
      "metadata": {
        "id": "view-in-github",
        "colab_type": "text"
      },
      "source": [
        "<a href=\"https://colab.research.google.com/github/LorenzoPiccari/LorenzoPiccari/blob/main/PyTorch_SimpleMLP_Example.ipynb\" target=\"_parent\"><img src=\"https://colab.research.google.com/assets/colab-badge.svg\" alt=\"Open In Colab\"/></a>"
      ]
    },
    {
      "cell_type": "code",
      "execution_count": null,
      "metadata": {
        "id": "q_cd7xkhhQo6"
      },
      "outputs": [],
      "source": [
        "# Implementation of a basic pytorch MLP shallow architecture to illustrate\n",
        "# a tipical DL pipeline implemented in pytorch\n",
        "#\n",
        "# Stefano Giagu - v1.1 - 4.11.2022"
      ]
    },
    {
      "cell_type": "code",
      "execution_count": null,
      "metadata": {
        "id": "F6cJhPLThtRq"
      },
      "outputs": [],
      "source": [
        "import numpy as np\n",
        "import matplotlib.pyplot as plt\n",
        "from scipy.stats import norm"
      ]
    },
    {
      "cell_type": "code",
      "execution_count": null,
      "metadata": {
        "colab": {
          "base_uri": "https://localhost:8080/"
        },
        "id": "V3rnBiO-nwPM",
        "outputId": "3b05b77f-f62f-4325-fa28-8b346cf05b45"
      },
      "outputs": [
        {
          "output_type": "stream",
          "name": "stdout",
          "text": [
            "2.2.1+cu121\n",
            "0.17.1+cu121\n"
          ]
        }
      ],
      "source": [
        "import torch\n",
        "import torchvision\n",
        "\n",
        "print(torch.__version__)\n",
        "print(torchvision.__version__)"
      ]
    },
    {
      "cell_type": "code",
      "execution_count": null,
      "metadata": {
        "colab": {
          "base_uri": "https://localhost:8080/"
        },
        "id": "ZL2plVoan5H6",
        "outputId": "6b7a5f43-75e2-4b2e-ad48-52a1ee3fdfea"
      },
      "outputs": [
        {
          "output_type": "stream",
          "name": "stdout",
          "text": [
            "number fo devices:  1\n",
            "Tesla T4\n",
            "Computation device: cuda\n",
            "\n"
          ]
        }
      ],
      "source": [
        "# in torch/pytorch data and models need to be moved in the specific processing unit\n",
        "# this code snippet allows to set the variable \"device\" according to available resoirce (cpu or cuda gpu)\n",
        "\n",
        "if torch.cuda.is_available():\n",
        "  print('number fo devices: ', torch.cuda.device_count())\n",
        "  print(torch.cuda.get_device_name(0))\n",
        "\n",
        "device = ('cuda' if torch.cuda.is_available() else 'cpu')\n",
        "print(f\"Computation device: {device}\\n\")"
      ]
    },
    {
      "cell_type": "code",
      "execution_count": null,
      "metadata": {
        "colab": {
          "base_uri": "https://localhost:8080/"
        },
        "id": "1F3TrSrLuRJW",
        "outputId": "20f69e3c-035e-4a48-ec54-6ee1e78d9bb9"
      },
      "outputs": [
        {
          "output_type": "stream",
          "name": "stdout",
          "text": [
            "(4000, 8)\n",
            "(2560, 8)\n",
            "(2560,)\n",
            "(640, 8)\n",
            "(640,)\n",
            "(800, 8)\n",
            "(800,)\n",
            "[-3.6496617  -2.85458647 -1.4130614  -0.87017962  1.14717446  2.1533301\n",
            "  3.14323779  3.70608474]\n",
            "0.0\n"
          ]
        }
      ],
      "source": [
        "# Dataset: in this super simple example, we'll produce a toy dataset generated using\n",
        "# numpy\n",
        "#\n",
        "# two class problem, with 8 uncorrelated features, gaussian distributed with different\n",
        "# means and variance among features and classes\n",
        "\n",
        "#loc is the list of mean values for the distribution, scale is the stdev\n",
        "features_S = np.random.normal(loc=[-4.,-3.,-2.,-1.,1.,2.,3.,4.], scale=np.random.uniform(0.2,0.7,size=(8)), size=(2000,8))\n",
        "features_B = np.random.normal(loc=[-4.5,-3.5,-2.5,-1.5,1.5,2.5,3.5,4.5], scale=np.random.uniform(0.2,0.7,size=(8)), size=(2000,8))\n",
        "labels_S = np.zeros(shape=(2000))\n",
        "labels_B = np.ones(shape=(2000))\n",
        "\n",
        "X = np.concatenate((features_S, features_B), axis=0)\n",
        "Y = np.concatenate((labels_S, labels_B), axis=0)\n",
        "print(X.shape)\n",
        "\n",
        "# divide the dataset in train and test\n",
        "from sklearn.model_selection import train_test_split\n",
        "\n",
        "#0.2 of datapoints to the test set and 0.8 to the training set\n",
        "X_train, X_test, Y_train, Y_test = train_test_split(X, Y, test_size=0.2, random_state=12345)\n",
        "#Divide the training set in training set and validation set, 0.2 to validation and 0.8 to training\n",
        "X_train, X_vali, Y_train, Y_vali = train_test_split(X_train, Y_train, test_size=0.2, random_state=456789)\n",
        "print(X_train.shape)\n",
        "print(Y_train.shape)\n",
        "print(X_vali.shape)\n",
        "print(Y_vali.shape)\n",
        "print(X_test.shape)\n",
        "print(Y_test.shape)\n",
        "\n",
        "#Each event/point in these datasets is constitued by a label (0 or 1 in the Y) and a set of 8 uncorraletd features which represent the single event:\n",
        "print(X_train[0])\n",
        "print(Y_train[0])"
      ]
    },
    {
      "cell_type": "code",
      "source": [
        "# plot variables\n",
        "\n",
        "#Y can be only 1 or 0, which in this case are the labels for the two classes we are condidering, so:\n",
        "sel_S = tuple([Y_train<0.5])\n",
        "sel_B = tuple([Y_train>0.5])\n",
        "print(sel_S)\n",
        "print(sel_B)\n",
        "\n",
        "#Each of the 8 uncorrelated features, will have some points labelled with 0 and others with 1, in a random way.\n",
        "for idx in range(8):\n",
        "  plt.subplot(2,4,idx+1)\n",
        "  plt.hist((X_train[sel_S])[:,idx], bins=50, range=[-6.,6.], alpha=0.5, log=True, density=True)\n",
        "  plt.hist((X_train[sel_B])[:,idx], bins=50, range=[-6.,6.], alpha=0.5, log=True, density=True)\n",
        "plt.tight_layout()"
      ],
      "metadata": {
        "colab": {
          "base_uri": "https://localhost:8080/",
          "height": 522
        },
        "id": "qHpIRa6SmFQO",
        "outputId": "b2f11ec1-5b99-4a85-aad7-e4da9e142853"
      },
      "execution_count": null,
      "outputs": [
        {
          "output_type": "stream",
          "name": "stdout",
          "text": [
            "(array([ True,  True, False, ...,  True,  True, False]),)\n",
            "(array([False, False,  True, ..., False, False,  True]),)\n"
          ]
        },
        {
          "output_type": "display_data",
          "data": {
            "text/plain": [
              "<Figure size 640x480 with 8 Axes>"
            ],
            "image/png": "[encoded data removed]"
          },
          "metadata": {}
        }
      ]
    },
    {
      "cell_type": "code",
      "execution_count": null,
      "metadata": {
        "colab": {
          "base_uri": "https://localhost:8080/"
        },
        "id": "u1Lymch5XTw8",
        "outputId": "867654f7-4a6b-4ae5-d274-46a4048b0d61"
      },
      "outputs": [
        {
          "output_type": "stream",
          "name": "stdout",
          "text": [
            "torch.Size([2560, 8])\n",
            "torch.Size([2560])\n",
            "torch.Size([640, 8])\n",
            "torch.Size([640])\n",
            "torch.Size([800, 8])\n",
            "torch.Size([800])\n"
          ]
        }
      ],
      "source": [
        "# transform the numpy arrays to torch tensors (pytorch works with torch tensors)\n",
        "\n",
        "X_train_pt = torch.Tensor(X_train).float()\n",
        "Y_train_pt = torch.Tensor(Y_train).float()\n",
        "X_vali_pt = torch.Tensor(X_vali).float()\n",
        "Y_vali_pt = torch.Tensor(Y_vali).float()\n",
        "X_test_pt = torch.Tensor(X_test).float()\n",
        "Y_test_pt = torch.Tensor(Y_test).float()\n",
        "\n",
        "print(X_train_pt.shape)\n",
        "print(Y_train_pt.shape)\n",
        "print(X_vali_pt.shape)\n",
        "print(Y_vali_pt.shape)\n",
        "print(X_test_pt.shape)\n",
        "print(Y_test_pt.shape)\n",
        "\n",
        "# For training and validation set, create a pytorch dataset and a pytroch dataloader (a python iterable that allows to iterate among sample's events, mini-batch it, reshuffle it at every epoch, etc...)\n",
        "from torch.utils.data import TensorDataset, DataLoader\n",
        "\n",
        "dataset_train = TensorDataset(X_train_pt, Y_train_pt)\n",
        "#Iterating on this iterator means taking each iteration a minibatch of 32 elements\n",
        "dataloader_train = DataLoader(dataset_train, batch_size=32, shuffle=True)\n",
        "\n",
        "dataset_vali = TensorDataset(X_vali_pt, Y_vali_pt)\n",
        "dataloader_vali = DataLoader(dataset_vali, batch_size=32, shuffle=True)"
      ]
    },
    {
      "cell_type": "code",
      "source": [
        "# note: move torch tensors between cpu and gpu\n",
        "\n",
        "print('X_train_pt is in GPU: ', X_train_pt.is_cuda)\n",
        "X_train_pt = X_train_pt.to(device)\n",
        "print('X_train_pt is in GPU: ', X_train_pt.is_cuda)\n",
        "X_train_pt = X_train_pt.to('cpu')\n",
        "print('X_train_pt is in GPU: ', X_train_pt.is_cuda)\n",
        "\n",
        "\n",
        "# alteranative way (earlier troch style)\n",
        "# use .cuda() e .cpu()\n",
        "print('X_train_pt is in GPU: ', X_train_pt.cpu())\n",
        "print('X_train_pt is in GPU: ', X_train_pt.cuda())"
      ],
      "metadata": {
        "colab": {
          "base_uri": "https://localhost:8080/"
        },
        "id": "eL6Lhlndh3Ee",
        "outputId": "4ac21df4-d267-496d-a36a-ae31a5eda6ca"
      },
      "execution_count": null,
      "outputs": [
        {
          "output_type": "stream",
          "name": "stdout",
          "text": [
            "X_train_pt is in GPU:  False\n",
            "X_train_pt is in GPU:  True\n",
            "X_train_pt is in GPU:  False\n",
            "X_train_pt is in GPU:  tensor([[-3.6497, -2.8546, -1.4131,  ...,  2.1533,  3.1432,  3.7061],\n",
            "        [-3.9076, -3.1320, -2.8785,  ...,  2.3186,  3.0983,  3.5820],\n",
            "        [-5.0216, -3.3958, -2.3451,  ...,  3.4292,  4.2951,  4.5154],\n",
            "        ...,\n",
            "        [-2.9472, -3.0311, -1.8128,  ...,  1.2947,  2.9858,  3.5900],\n",
            "        [-4.0767, -2.7730, -1.6745,  ...,  1.4975,  3.3151,  4.0481],\n",
            "        [-4.6551, -3.1671, -2.2284,  ...,  2.6399,  3.4119,  5.8523]])\n",
            "X_train_pt is in GPU:  tensor([[-3.6497, -2.8546, -1.4131,  ...,  2.1533,  3.1432,  3.7061],\n",
            "        [-3.9076, -3.1320, -2.8785,  ...,  2.3186,  3.0983,  3.5820],\n",
            "        [-5.0216, -3.3958, -2.3451,  ...,  3.4292,  4.2951,  4.5154],\n",
            "        ...,\n",
            "        [-2.9472, -3.0311, -1.8128,  ...,  1.2947,  2.9858,  3.5900],\n",
            "        [-4.0767, -2.7730, -1.6745,  ...,  1.4975,  3.3151,  4.0481],\n",
            "        [-4.6551, -3.1671, -2.2284,  ...,  2.6399,  3.4119,  5.8523]],\n",
            "       device='cuda:0')\n"
          ]
        }
      ]
    },
    {
      "cell_type": "code",
      "source": [
        "# example of iteration through the dataloader\n",
        "\n",
        "train_features, train_labels = next(iter(dataloader_train))\n",
        "\n",
        "print(f\"Feature batch shape: {train_features.size()}\")\n",
        "print(f\"Labels batch shape: {train_labels.size()}\")\n",
        "\n",
        "an_event = train_features[0].squeeze()\n",
        "a_label = train_labels[0]\n",
        "\n",
        "print(f\"Feature: {an_event}\")\n",
        "print(f\"Label: {a_label}\")"
      ],
      "metadata": {
        "colab": {
          "base_uri": "https://localhost:8080/"
        },
        "id": "hzLJyiBNvZVg",
        "outputId": "d788f5d3-e0b3-4c50-cd71-d43c0f624996"
      },
      "execution_count": null,
      "outputs": [
        {
          "output_type": "stream",
          "name": "stdout",
          "text": [
            "Feature batch shape: torch.Size([32, 8])\n",
            "Labels batch shape: torch.Size([32])\n",
            "Feature: tensor([-4.4314, -3.2058, -2.0983, -1.2304,  2.2139,  2.6515,  3.3059,  4.2845])\n",
            "Label: 1.0\n"
          ]
        }
      ]
    },
    {
      "cell_type": "code",
      "execution_count": null,
      "metadata": {
        "id": "At2pTSb5uJ0O"
      },
      "outputs": [],
      "source": [
        "# a pytorch nn (Neural Network) model: it is just a python class inheriting from nn.Module that defines\n",
        "# the layers and activations used in the Deep Neural Network model and a forward(x) method that defines\n",
        "# how the model act on an input example x\n",
        "\n",
        "from torch import nn\n",
        "import torch.nn.functional as F\n",
        "\n",
        "# as a basic example let'd define a shallow ANN with a dense layer with 20 neurons\n",
        "class ShallowANN(nn.Module):\n",
        "  def __init__(self, input_dim):\n",
        "    super(ShallowANN, self).__init__()\n",
        "\n",
        "    #torch.nn.Linear(in_features, out_features, bias=True, device=None, dtype=None)\n",
        "    #Linear in pytorch is the equivalent of Dense in keras\n",
        "    #So there are 2 layers, with 20 neurons each. The activation function change for each layer. For the hidden layer we have ReLU (Rectified linear unit), which is very common for hidden layers.\n",
        "    #For the output layer we have instead a Sigmoid, which is indeed tipycally used for the output layer of classification tasks.\n",
        "    self.layer1 = nn.Linear(input_dim, 20)\n",
        "    self.activ1 = nn.ReLU()\n",
        "    self.layer2 = nn.Linear(20, 1)\n",
        "    self.activ2 = nn.Sigmoid()\n",
        "\n",
        "  def forward(self, x):\n",
        "    out = self.layer1(x)\n",
        "    out = self.activ1(out)\n",
        "    out = self.layer2(out) #alternatively the two statements can be replaced\n",
        "    out = self.activ2(out) #out = torch.sigmoid(self.layer2(out))\n",
        "    return out\n",
        "\n",
        "# note: it is strightfoward to modify the class to implement a MLP\n",
        "\n",
        "# example MLP: with 3 hidden layers\n",
        "\n",
        "class MyMLP(nn.Module):\n",
        "  def __init__(self):\n",
        "    super(MyMLP, self).__init__()\n",
        "\n",
        "    self.layer1 = nn.Linear(8, 20)\n",
        "    self.activ1 = nn.ReLU()\n",
        "    self.layer2 = nn.Linear(20, 50)\n",
        "    self.activ2 = nn.ReLU()\n",
        "    self.layer3 = nn.Linear(50, 100)\n",
        "    self.activ3 = nn.ReLU()\n",
        "    self.layer4 = nn.Linear(100, 1)\n",
        "    self.activ4 = nn.Sigmoid()\n",
        "\n",
        "  def forward(self, x):\n",
        "    out = self.layer1(x)\n",
        "    out = self.activ1(out)\n",
        "    out = self.layer2(out)\n",
        "    out = self.activ2(out)\n",
        "    out = self.layer3(out)\n",
        "    out = self.activ3(out)\n",
        "    out = self.layer4(out)\n",
        "    out = self.activ4(out)\n",
        "    return out\n",
        "\n",
        "\n",
        "# alternative implementation\n",
        "class MyMLP2(nn.Module):\n",
        "  def __init__(self):\n",
        "    super(MyMLP2, self).__init__()\n",
        "\n",
        "    self.mlp_block = nn.Sequential( #similar to keras keras.Sequential module\n",
        "      nn.Linear(8, 20),\n",
        "      nn.ReLU(),\n",
        "      nn.Linear(20, 50),\n",
        "      nn.ReLU(),\n",
        "      nn.Linear(50, 100),\n",
        "      nn.ReLU()\n",
        "    )\n",
        "\n",
        "    self.out_block = nn.Linear(100, 1)\n",
        "\n",
        "  def forward(self, x):\n",
        "    out = torch.sigmoid(self.out_block(self.mlp(x)))\n",
        "    return out"
      ]
    },
    {
      "cell_type": "code",
      "execution_count": null,
      "metadata": {
        "colab": {
          "base_uri": "https://localhost:8080/"
        },
        "id": "CW_NlvdnuRJZ",
        "outputId": "eef9947c-5e68-4809-abda-164b373126b8"
      },
      "outputs": [
        {
          "output_type": "stream",
          "name": "stdout",
          "text": [
            "Requirement already satisfied: torchsummary in /usr/local/lib/python3.10/dist-packages (1.5.1)\n"
          ]
        }
      ],
      "source": [
        "%pip install torchsummary"
      ]
    },
    {
      "cell_type": "code",
      "execution_count": null,
      "metadata": {
        "colab": {
          "base_uri": "https://localhost:8080/"
        },
        "id": "uaLMNMzt1TAK",
        "outputId": "3021db93-a88a-4942-8ab8-2ddd2b2bd4fa"
      },
      "outputs": [
        {
          "output_type": "stream",
          "name": "stdout",
          "text": [
            "ShallowANN(\n",
            "  (layer1): Linear(in_features=8, out_features=20, bias=True)\n",
            "  (activ1): ReLU()\n",
            "  (layer2): Linear(in_features=20, out_features=1, bias=True)\n",
            "  (activ2): Sigmoid()\n",
            ")\n",
            "----------------------------------------------------------------\n",
            "        Layer (type)               Output Shape         Param #\n",
            "================================================================\n",
            "            Linear-1                [-1, 1, 20]             180\n",
            "              ReLU-2                [-1, 1, 20]               0\n",
            "            Linear-3                 [-1, 1, 1]              21\n",
            "           Sigmoid-4                 [-1, 1, 1]               0\n",
            "================================================================\n",
            "Total params: 201\n",
            "Trainable params: 201\n",
            "Non-trainable params: 0\n",
            "----------------------------------------------------------------\n",
            "Input size (MB): 0.00\n",
            "Forward/backward pass size (MB): 0.00\n",
            "Params size (MB): 0.00\n",
            "Estimated Total Size (MB): 0.00\n",
            "----------------------------------------------------------------\n"
          ]
        }
      ],
      "source": [
        "model = ShallowANN(input_dim=8)\n",
        "print(model)\n",
        "\n",
        "#Giving a summary of the model and the training with torchsummary\n",
        "from torchsummary import summary\n",
        "if torch.cuda.is_available():\n",
        "  summary(model.cuda(), input_size=(1,8))\n",
        "else:\n",
        "  summary(model, input_size=(1,8))"
      ]
    },
    {
      "cell_type": "code",
      "source": [
        "#install torchmetrics: collection of useful PyTorch metrics implementations and an easy-to-use API to create custom metrics]\n",
        "# API = Application Programming Interface (interfaccia di programmazione delle applicazioni\n",
        "%pip install torchmetrics"
      ],
      "metadata": {
        "colab": {
          "base_uri": "https://localhost:8080/"
        },
        "id": "bn2FIc6jlvnz",
        "outputId": "2b1b4714-6b81-4a4f-89ac-ca3510ffa582"
      },
      "execution_count": null,
      "outputs": [
        {
          "output_type": "stream",
          "name": "stdout",
          "text": [
            "Collecting torchmetrics\n",
            "  Downloading torchmetrics-1.4.0.post0-py3-none-any.whl (868 kB)\n",
            "\u001b[2K     \u001b[90m━━━━━━━━━━━━━━━━━━━━━━━━━━━━━━━━━━━━━━━━\u001b[0m \u001b[32m868.8/868.8 kB\u001b[0m \u001b[31m4.1 MB/s\u001b[0m eta \u001b[36m0:00:00\u001b[0m\n",
            "\u001b[?25hRequirement already satisfied: numpy>1.20.0 in /usr/local/lib/python3.10/dist-packages (from torchmetrics) (1.25.2)\n",
            "Requirement already satisfied: packaging>17.1 in /usr/local/lib/python3.10/dist-packages (from torchmetrics) (24.0)\n",
            "Requirement already satisfied: torch>=1.10.0 in /usr/local/lib/python3.10/dist-packages (from torchmetrics) (2.2.1+cu121)\n",
            "Collecting lightning-utilities>=0.8.0 (from torchmetrics)\n",
            "  Downloading lightning_utilities-0.11.2-py3-none-any.whl (26 kB)\n",
            "Requirement already satisfied: setuptools in /usr/local/lib/python3.10/dist-packages (from lightning-utilities>=0.8.0->torchmetrics) (67.7.2)\n",
            "Requirement already satisfied: typing-extensions in /usr/local/lib/python3.10/dist-packages (from lightning-utilities>=0.8.0->torchmetrics) (4.11.0)\n",
            "Requirement already satisfied: filelock in /usr/local/lib/python3.10/dist-packages (from torch>=1.10.0->torchmetrics) (3.14.0)\n",
            "Requirement already satisfied: sympy in /usr/local/lib/python3.10/dist-packages (from torch>=1.10.0->torchmetrics) (1.12)\n",
            "Requirement already satisfied: networkx in /usr/local/lib/python3.10/dist-packages (from torch>=1.10.0->torchmetrics) (3.3)\n",
            "Requirement already satisfied: jinja2 in /usr/local/lib/python3.10/dist-packages (from torch>=1.10.0->torchmetrics) (3.1.4)\n",
            "Requirement already satisfied: fsspec in /usr/local/lib/python3.10/dist-packages (from torch>=1.10.0->torchmetrics) (2023.6.0)\n",
            "Collecting nvidia-cuda-nvrtc-cu12==12.1.105 (from torch>=1.10.0->torchmetrics)\n",
            "  Using cached nvidia_cuda_nvrtc_cu12-12.1.105-py3-none-manylinux1_x86_64.whl (23.7 MB)\n",
            "Collecting nvidia-cuda-runtime-cu12==12.1.105 (from torch>=1.10.0->torchmetrics)\n",
            "  Using cached nvidia_cuda_runtime_cu12-12.1.105-py3-none-manylinux1_x86_64.whl (823 kB)\n",
            "Collecting nvidia-cuda-cupti-cu12==12.1.105 (from torch>=1.10.0->torchmetrics)\n",
            "  Using cached nvidia_cuda_cupti_cu12-12.1.105-py3-none-manylinux1_x86_64.whl (14.1 MB)\n",
            "Collecting nvidia-cudnn-cu12==8.9.2.26 (from torch>=1.10.0->torchmetrics)\n",
            "  Using cached nvidia_cudnn_cu12-8.9.2.26-py3-none-manylinux1_x86_64.whl (731.7 MB)\n",
            "Collecting nvidia-cublas-cu12==12.1.3.1 (from torch>=1.10.0->torchmetrics)\n",
            "  Using cached nvidia_cublas_cu12-12.1.3.1-py3-none-manylinux1_x86_64.whl (410.6 MB)\n",
            "Collecting nvidia-cufft-cu12==11.0.2.54 (from torch>=1.10.0->torchmetrics)\n",
            "  Using cached nvidia_cufft_cu12-11.0.2.54-py3-none-manylinux1_x86_64.whl (121.6 MB)\n",
            "Collecting nvidia-curand-cu12==10.3.2.106 (from torch>=1.10.0->torchmetrics)\n",
            "  Using cached nvidia_curand_cu12-10.3.2.106-py3-none-manylinux1_x86_64.whl (56.5 MB)\n",
            "Collecting nvidia-cusolver-cu12==11.4.5.107 (from torch>=1.10.0->torchmetrics)\n",
            "  Using cached nvidia_cusolver_cu12-11.4.5.107-py3-none-manylinux1_x86_64.whl (124.2 MB)\n",
            "Collecting nvidia-cusparse-cu12==12.1.0.106 (from torch>=1.10.0->torchmetrics)\n",
            "  Using cached nvidia_cusparse_cu12-12.1.0.106-py3-none-manylinux1_x86_64.whl (196.0 MB)\n",
            "Collecting nvidia-nccl-cu12==2.19.3 (from torch>=1.10.0->torchmetrics)\n",
            "  Using cached nvidia_nccl_cu12-2.19.3-py3-none-manylinux1_x86_64.whl (166.0 MB)\n",
            "Collecting nvidia-nvtx-cu12==12.1.105 (from torch>=1.10.0->torchmetrics)\n",
            "  Using cached nvidia_nvtx_cu12-12.1.105-py3-none-manylinux1_x86_64.whl (99 kB)\n",
            "Requirement already satisfied: triton==2.2.0 in /usr/local/lib/python3.10/dist-packages (from torch>=1.10.0->torchmetrics) (2.2.0)\n",
            "Collecting nvidia-nvjitlink-cu12 (from nvidia-cusolver-cu12==11.4.5.107->torch>=1.10.0->torchmetrics)\n",
            "  Using cached nvidia_nvjitlink_cu12-12.4.127-py3-none-manylinux2014_x86_64.whl (21.1 MB)\n",
            "Requirement already satisfied: MarkupSafe>=2.0 in /usr/local/lib/python3.10/dist-packages (from jinja2->torch>=1.10.0->torchmetrics) (2.1.5)\n",
            "Requirement already satisfied: mpmath>=0.19 in /usr/local/lib/python3.10/dist-packages (from sympy->torch>=1.10.0->torchmetrics) (1.3.0)\n",
            "Installing collected packages: nvidia-nvtx-cu12, nvidia-nvjitlink-cu12, nvidia-nccl-cu12, nvidia-curand-cu12, nvidia-cufft-cu12, nvidia-cuda-runtime-cu12, nvidia-cuda-nvrtc-cu12, nvidia-cuda-cupti-cu12, nvidia-cublas-cu12, lightning-utilities, nvidia-cusparse-cu12, nvidia-cudnn-cu12, nvidia-cusolver-cu12, torchmetrics\n",
            "Successfully installed lightning-utilities-0.11.2 nvidia-cublas-cu12-12.1.3.1 nvidia-cuda-cupti-cu12-12.1.105 nvidia-cuda-nvrtc-cu12-12.1.105 nvidia-cuda-runtime-cu12-12.1.105 nvidia-cudnn-cu12-8.9.2.26 nvidia-cufft-cu12-11.0.2.54 nvidia-curand-cu12-10.3.2.106 nvidia-cusolver-cu12-11.4.5.107 nvidia-cusparse-cu12-12.1.0.106 nvidia-nccl-cu12-2.19.3 nvidia-nvjitlink-cu12-12.4.127 nvidia-nvtx-cu12-12.1.105 torchmetrics-1.4.0.post0\n"
          ]
        }
      ]
    },
    {
      "cell_type": "code",
      "execution_count": null,
      "metadata": {
        "colab": {
          "base_uri": "https://localhost:8080/"
        },
        "id": "qKuuD7vzrdff",
        "outputId": "19293fd3-2ed7-4a2a-fa80-f77ba5b38a1e"
      },
      "outputs": [
        {
          "output_type": "stream",
          "name": "stdout",
          "text": [
            "model is on GPU:  True\n"
          ]
        }
      ],
      "source": [
        "# reinstantiate a new model (reset weight etc) and put it on GPU\n",
        "model = ShallowANN(input_dim=8)\n",
        "model.to(device)\n",
        "print('model is on GPU: ',next(model.parameters()).is_cuda)"
      ]
    },
    {
      "cell_type": "code",
      "execution_count": null,
      "metadata": {
        "id": "asMI2TET1_wS"
      },
      "outputs": [],
      "source": [
        "#loss\n",
        "\n",
        "# NOTE: BCELoss for binary classification\n",
        "#       CrossEntropyLoss for multiclass classification (already includes softmax calculation, output of ANN foward method are logits)\n",
        "loss_func = nn.BCELoss() #binary cross entropy loss\n",
        "\n",
        "#Cross entropy is the term used to indicate the negative log-likelihood of a Bernoulli (BCE) or softmax distribution [https://it.wikipedia.org/wiki/Funzione_softmax]\n",
        "\n",
        "# metrics\n",
        "import torchmetrics\n",
        "from torchmetrics.functional.classification import binary_accuracy\n",
        "\n",
        "#metric binary accuracy (hand's made)\n",
        "#yhat --> empirical data defined by the training set\n",
        "#y --> Model\n",
        "def my_binary_accuracy(yhat, y):\n",
        "  #assert tells the program to immediately test a condition and raise an error if it's False\n",
        "  #Here we are basically checking the validity of the input arguments\n",
        "  assert y.ndim == 1 and y.size() == yhat.size()\n",
        "  #If yhat > 0.5 --> yhat = True, else yhat = False\n",
        "  yhat = yhat > 0.5\n",
        "  #Count how many times the elements of y match those of y and divide by the total number of elements\n",
        "  return (y == yhat).sum().item() / y.size(0)\n",
        "\n",
        "my_metric_func = my_binary_accuracy\n",
        "\n",
        "# NOTE: better to use metrics from torchmetrics:\n",
        "#  torchmetrics.functional.classification.binary_accuracy(preds, target)\n",
        "\n",
        "# optim\n",
        "from torch import optim\n",
        "\n",
        "#The standard minimization algoritm is Stochastic Gradien Descent\n",
        "#opt = optim.SGD(model.parameters(), lr=0.001, momentum=0.9)\n",
        "\n",
        "# However, we can also pick alternatives, as Adam\n",
        "opt = optim.Adam(model.parameters(), lr=1e-3)\n",
        "\n",
        "#The Adam optimizer, short for “Adaptive Moment Estimation,” is an iterative optimization algorithm used\n",
        "#to minimize the loss function during the training of neural networks. Adam can be looked at\n",
        "#as a combination of RMSprop and Stochastic Gradient Descent with momentum\n",
        "\n",
        "# scheduler for multi step decay lr schedule\n",
        "# Decays the learning rate of each parameter group by gamma once the number of epoch reaches one of the milestones\n",
        "#lr_scheduler = optim.lr_scheduler.MultiStepLR(opt, milestones=[20,40,60], gamma=0.1)"
      ]
    },
    {
      "cell_type": "code",
      "source": [
        "# test implementation on one batch before to train. Remember in this notebook we have defined the dataloader iterator\n",
        "# to iterate over mini batches of 32 elements each\n",
        "xb,yb = next(iter(dataloader_train))\n",
        "\n",
        "#next() and iter() are built-in functions of python, they are used for working with iterables.\n",
        "#Basically iter() calls the __iter__() method on the iris_loader which returns an iterator. next() then calls the __next__() method on that iterator to get the first iteration.\n",
        "#Running next() again will get the second item of the iterator, etc.\n",
        "#This logic often happens 'behind the scenes', for example when running a for loop.\n",
        "#It calls the __iter__() method on the iterable, and then calls __next__() on the returned iterator\n",
        "#until it reaches the end of the iterator. It then raises a stopIteration and the loop stops.\n",
        "#Source: [https://stackoverflow.com/questions/62549990/what-does-next-and-iter-do-in-pytorchs-dataloader]\n",
        "\n",
        "xb=xb.type(torch.float).to(device) #put tensors on device\n",
        "yb=yb.type(torch.float).to(device)\n",
        "\n",
        "# prediction\n",
        "\n",
        "#model here is ShallowANN model\n",
        "pred = model(xb)\n",
        "print('output shape: ', pred.shape)\n",
        "\n",
        "# loss and metric\n",
        "loss = loss_func(pred, torch.unsqueeze(yb,1))\n",
        "metric = binary_accuracy(pred, torch.unsqueeze(yb,1))\n",
        "#or also: metric = binary_accuracy(torch.squeeze(pred), yb)\n",
        "mymetric = my_metric_func(torch.squeeze(pred), yb)\n",
        "\n",
        "print('loss: ', loss.item())\n",
        "print('metric: ', metric.item())\n",
        "print('my_metric: ', mymetric)"
      ],
      "metadata": {
        "colab": {
          "base_uri": "https://localhost:8080/"
        },
        "id": "6Aev66vFnbiq",
        "outputId": "b1ea7aeb-ca8e-4a9c-8a28-c670a99be708"
      },
      "execution_count": null,
      "outputs": [
        {
          "output_type": "stream",
          "name": "stdout",
          "text": [
            "output shape:  torch.Size([32, 1])\n",
            "loss:  0.6447007060050964\n",
            "metric:  0.65625\n",
            "my_metric:  0.65625\n"
          ]
        }
      ]
    },
    {
      "cell_type": "code",
      "execution_count": null,
      "metadata": {
        "colab": {
          "base_uri": "https://localhost:8080/"
        },
        "id": "ULR6JSud2M0e",
        "outputId": "3dc0a620-e318-48b7-c233-06e8c0b0f009"
      },
      "outputs": [
        {
          "output_type": "stream",
          "name": "stdout",
          "text": [
            "epoch: 1, time(s): 0.4598, train loss: 0.674505, train metric: 0.567969, vali loss: 0.659332, vali metric: 0.623437\n",
            "epoch: 2, time(s): 0.3054, train loss: 0.645217, train metric: 0.678125, vali loss: 0.629279, vali metric: 0.734375\n",
            "epoch: 3, time(s): 0.2268, train loss: 0.620162, train metric: 0.710547, vali loss: 0.601478, vali metric: 0.737500\n",
            "epoch: 4, time(s): 0.2225, train loss: 0.595659, train metric: 0.729688, vali loss: 0.574961, vali metric: 0.765625\n",
            "epoch: 5, time(s): 0.2183, train loss: 0.573384, train metric: 0.747656, vali loss: 0.554891, vali metric: 0.743750\n",
            "epoch: 6, time(s): 0.2242, train loss: 0.553237, train metric: 0.748828, vali loss: 0.534374, vali metric: 0.762500\n",
            "epoch: 7, time(s): 0.2781, train loss: 0.537143, train metric: 0.751953, vali loss: 0.513123, vali metric: 0.784375\n",
            "epoch: 8, time(s): 0.2377, train loss: 0.524714, train metric: 0.758203, vali loss: 0.500969, vali metric: 0.779687\n",
            "epoch: 9, time(s): 0.2179, train loss: 0.511902, train metric: 0.764453, vali loss: 0.487846, vali metric: 0.778125\n",
            "epoch: 10, time(s): 0.2156, train loss: 0.503607, train metric: 0.762500, vali loss: 0.478368, vali metric: 0.785937\n",
            "epoch: 11, time(s): 0.2221, train loss: 0.494053, train metric: 0.768750, vali loss: 0.471315, vali metric: 0.792188\n",
            "epoch: 12, time(s): 0.2184, train loss: 0.485187, train metric: 0.770703, vali loss: 0.462122, vali metric: 0.790625\n",
            "epoch: 13, time(s): 0.2120, train loss: 0.480953, train metric: 0.780469, vali loss: 0.455962, vali metric: 0.792188\n",
            "epoch: 14, time(s): 0.3158, train loss: 0.473482, train metric: 0.773828, vali loss: 0.450751, vali metric: 0.793750\n",
            "epoch: 15, time(s): 0.3252, train loss: 0.467495, train metric: 0.779297, vali loss: 0.443205, vali metric: 0.803125\n",
            "epoch: 16, time(s): 0.3598, train loss: 0.460102, train metric: 0.783594, vali loss: 0.439249, vali metric: 0.804688\n",
            "epoch: 17, time(s): 0.3687, train loss: 0.452189, train metric: 0.788281, vali loss: 0.431383, vali metric: 0.809375\n",
            "epoch: 18, time(s): 0.3485, train loss: 0.448383, train metric: 0.794922, vali loss: 0.425310, vali metric: 0.815625\n",
            "epoch: 19, time(s): 0.3988, train loss: 0.440506, train metric: 0.797656, vali loss: 0.428622, vali metric: 0.807813\n",
            "epoch: 20, time(s): 0.3712, train loss: 0.437551, train metric: 0.798438, vali loss: 0.413578, vali metric: 0.823438\n",
            "epoch: 21, time(s): 0.4327, train loss: 0.428741, train metric: 0.808203, vali loss: 0.407034, vali metric: 0.818750\n",
            "epoch: 22, time(s): 0.3567, train loss: 0.421906, train metric: 0.813672, vali loss: 0.401943, vali metric: 0.829688\n",
            "epoch: 23, time(s): 0.4231, train loss: 0.415698, train metric: 0.817578, vali loss: 0.402220, vali metric: 0.828125\n",
            "epoch: 24, time(s): 0.4251, train loss: 0.409697, train metric: 0.813281, vali loss: 0.390784, vali metric: 0.837500\n",
            "epoch: 25, time(s): 0.5847, train loss: 0.401063, train metric: 0.824219, vali loss: 0.384122, vali metric: 0.829688\n",
            "epoch: 26, time(s): 1.1607, train loss: 0.395727, train metric: 0.828516, vali loss: 0.377710, vali metric: 0.831250\n",
            "epoch: 27, time(s): 0.6574, train loss: 0.389963, train metric: 0.830469, vali loss: 0.370048, vali metric: 0.831250\n",
            "epoch: 28, time(s): 0.5371, train loss: 0.382396, train metric: 0.831250, vali loss: 0.366778, vali metric: 0.839063\n",
            "epoch: 29, time(s): 0.5525, train loss: 0.374987, train metric: 0.843359, vali loss: 0.357790, vali metric: 0.846875\n",
            "epoch: 30, time(s): 0.4192, train loss: 0.368982, train metric: 0.848437, vali loss: 0.350165, vali metric: 0.856250\n",
            "epoch: 31, time(s): 0.5845, train loss: 0.362800, train metric: 0.850781, vali loss: 0.345503, vali metric: 0.854688\n",
            "epoch: 32, time(s): 0.5569, train loss: 0.356808, train metric: 0.854688, vali loss: 0.337113, vali metric: 0.871875\n",
            "epoch: 33, time(s): 0.5435, train loss: 0.346782, train metric: 0.862109, vali loss: 0.331279, vali metric: 0.875000\n",
            "epoch: 34, time(s): 0.6321, train loss: 0.339188, train metric: 0.871875, vali loss: 0.324195, vali metric: 0.885938\n",
            "epoch: 35, time(s): 0.5242, train loss: 0.333312, train metric: 0.869141, vali loss: 0.318470, vali metric: 0.884375\n",
            "epoch: 36, time(s): 0.3812, train loss: 0.329171, train metric: 0.878516, vali loss: 0.312537, vali metric: 0.887500\n",
            "epoch: 37, time(s): 0.3103, train loss: 0.319566, train metric: 0.884375, vali loss: 0.314287, vali metric: 0.884375\n",
            "epoch: 38, time(s): 0.3537, train loss: 0.313029, train metric: 0.884766, vali loss: 0.299344, vali metric: 0.895312\n",
            "epoch: 39, time(s): 0.3365, train loss: 0.305709, train metric: 0.889062, vali loss: 0.296480, vali metric: 0.896875\n",
            "epoch: 40, time(s): 0.3106, train loss: 0.298627, train metric: 0.896094, vali loss: 0.291675, vali metric: 0.901563\n",
            "epoch: 41, time(s): 0.3862, train loss: 0.293015, train metric: 0.898438, vali loss: 0.284094, vali metric: 0.909375\n",
            "epoch: 42, time(s): 0.3937, train loss: 0.288152, train metric: 0.902734, vali loss: 0.277528, vali metric: 0.907813\n",
            "epoch: 43, time(s): 0.4548, train loss: 0.281567, train metric: 0.903516, vali loss: 0.274466, vali metric: 0.910937\n",
            "epoch: 44, time(s): 0.3797, train loss: 0.275654, train metric: 0.910156, vali loss: 0.267929, vali metric: 0.914062\n",
            "epoch: 45, time(s): 0.8678, train loss: 0.269281, train metric: 0.915234, vali loss: 0.262508, vali metric: 0.915625\n",
            "epoch: 46, time(s): 0.6283, train loss: 0.264722, train metric: 0.912891, vali loss: 0.257491, vali metric: 0.918750\n",
            "epoch: 47, time(s): 0.4174, train loss: 0.265187, train metric: 0.910156, vali loss: 0.253493, vali metric: 0.921875\n",
            "epoch: 48, time(s): 0.3874, train loss: 0.254746, train metric: 0.916406, vali loss: 0.252686, vali metric: 0.912500\n",
            "epoch: 49, time(s): 0.4369, train loss: 0.249161, train metric: 0.924609, vali loss: 0.256469, vali metric: 0.901563\n",
            "epoch: 50, time(s): 0.3318, train loss: 0.247843, train metric: 0.919531, vali loss: 0.241621, vali metric: 0.923438\n",
            "epoch: 51, time(s): 0.3363, train loss: 0.241998, train metric: 0.924219, vali loss: 0.239104, vali metric: 0.929688\n",
            "epoch: 52, time(s): 0.4562, train loss: 0.240677, train metric: 0.923828, vali loss: 0.234371, vali metric: 0.928125\n",
            "epoch: 53, time(s): 0.6343, train loss: 0.233789, train metric: 0.926953, vali loss: 0.231564, vali metric: 0.931250\n",
            "epoch: 54, time(s): 0.6011, train loss: 0.229778, train metric: 0.930469, vali loss: 0.227950, vali metric: 0.934375\n",
            "epoch: 55, time(s): 0.7147, train loss: 0.224982, train metric: 0.931250, vali loss: 0.224731, vali metric: 0.934375\n",
            "epoch: 56, time(s): 0.6761, train loss: 0.224703, train metric: 0.929688, vali loss: 0.224836, vali metric: 0.915625\n",
            "epoch: 57, time(s): 0.8897, train loss: 0.218965, train metric: 0.932813, vali loss: 0.220740, vali metric: 0.934375\n",
            "epoch: 58, time(s): 0.5956, train loss: 0.216765, train metric: 0.933984, vali loss: 0.217391, vali metric: 0.925000\n",
            "epoch: 59, time(s): 0.2186, train loss: 0.213455, train metric: 0.939844, vali loss: 0.214781, vali metric: 0.937500\n",
            "epoch: 60, time(s): 0.2101, train loss: 0.210881, train metric: 0.934766, vali loss: 0.212705, vali metric: 0.937500\n",
            "epoch: 61, time(s): 0.2092, train loss: 0.209307, train metric: 0.936719, vali loss: 0.211742, vali metric: 0.932813\n",
            "epoch: 62, time(s): 0.2102, train loss: 0.205527, train metric: 0.936328, vali loss: 0.212136, vali metric: 0.921875\n",
            "epoch: 63, time(s): 0.2067, train loss: 0.203027, train metric: 0.937500, vali loss: 0.204914, vali metric: 0.932813\n",
            "epoch: 64, time(s): 0.2241, train loss: 0.200717, train metric: 0.936328, vali loss: 0.210228, vali metric: 0.917188\n",
            "epoch: 65, time(s): 0.2122, train loss: 0.199796, train metric: 0.935156, vali loss: 0.201054, vali metric: 0.935937\n",
            "epoch: 66, time(s): 0.2097, train loss: 0.196956, train metric: 0.937891, vali loss: 0.199449, vali metric: 0.935937\n",
            "epoch: 67, time(s): 0.2137, train loss: 0.195328, train metric: 0.939453, vali loss: 0.207896, vali metric: 0.914062\n",
            "epoch: 68, time(s): 0.2166, train loss: 0.193595, train metric: 0.938672, vali loss: 0.200515, vali metric: 0.939063\n",
            "epoch: 69, time(s): 0.2196, train loss: 0.193051, train metric: 0.937109, vali loss: 0.195936, vali metric: 0.923438\n",
            "epoch: 70, time(s): 0.2164, train loss: 0.188107, train metric: 0.941016, vali loss: 0.192818, vali metric: 0.931250\n",
            "epoch: 71, time(s): 0.2161, train loss: 0.186235, train metric: 0.941797, vali loss: 0.191417, vali metric: 0.929688\n",
            "epoch: 72, time(s): 0.2078, train loss: 0.185807, train metric: 0.943750, vali loss: 0.214539, vali metric: 0.910937\n",
            "epoch: 73, time(s): 0.2250, train loss: 0.185288, train metric: 0.941016, vali loss: 0.188700, vali metric: 0.932813\n",
            "epoch: 74, time(s): 0.2146, train loss: 0.181569, train metric: 0.944531, vali loss: 0.187678, vali metric: 0.934375\n",
            "epoch: 75, time(s): 0.2169, train loss: 0.179466, train metric: 0.942969, vali loss: 0.188237, vali metric: 0.925000\n",
            "epoch: 76, time(s): 0.2135, train loss: 0.183631, train metric: 0.937500, vali loss: 0.184727, vali metric: 0.934375\n",
            "epoch: 77, time(s): 0.2133, train loss: 0.179172, train metric: 0.941016, vali loss: 0.184185, vali metric: 0.925000\n",
            "epoch: 78, time(s): 0.2383, train loss: 0.176865, train metric: 0.942969, vali loss: 0.184672, vali metric: 0.935937\n",
            "epoch: 79, time(s): 0.2250, train loss: 0.177913, train metric: 0.942578, vali loss: 0.184091, vali metric: 0.935937\n",
            "epoch: 80, time(s): 0.2130, train loss: 0.174113, train metric: 0.939844, vali loss: 0.186741, vali metric: 0.918750\n",
            "epoch: 81, time(s): 0.2189, train loss: 0.175785, train metric: 0.943750, vali loss: 0.179213, vali metric: 0.937500\n",
            "epoch: 82, time(s): 0.2109, train loss: 0.175824, train metric: 0.936719, vali loss: 0.212795, vali metric: 0.907813\n",
            "epoch: 83, time(s): 0.2198, train loss: 0.174194, train metric: 0.942187, vali loss: 0.185563, vali metric: 0.939063\n",
            "epoch: 84, time(s): 0.2220, train loss: 0.171246, train metric: 0.944141, vali loss: 0.178748, vali metric: 0.925000\n",
            "epoch: 85, time(s): 0.2224, train loss: 0.170027, train metric: 0.944141, vali loss: 0.178284, vali metric: 0.925000\n",
            "epoch: 86, time(s): 0.2115, train loss: 0.170900, train metric: 0.941406, vali loss: 0.176102, vali metric: 0.935937\n",
            "epoch: 87, time(s): 0.2231, train loss: 0.170759, train metric: 0.941016, vali loss: 0.182937, vali metric: 0.918750\n",
            "epoch: 88, time(s): 0.2146, train loss: 0.167733, train metric: 0.941797, vali loss: 0.173729, vali metric: 0.934375\n",
            "epoch: 89, time(s): 0.2105, train loss: 0.167351, train metric: 0.944141, vali loss: 0.193329, vali metric: 0.918750\n",
            "epoch: 90, time(s): 0.2118, train loss: 0.162925, train metric: 0.946484, vali loss: 0.196425, vali metric: 0.915625\n",
            "epoch: 91, time(s): 0.2145, train loss: 0.165388, train metric: 0.949219, vali loss: 0.176550, vali metric: 0.921875\n",
            "epoch: 92, time(s): 0.2286, train loss: 0.165652, train metric: 0.944922, vali loss: 0.174420, vali metric: 0.940625\n",
            "epoch: 93, time(s): 0.2248, train loss: 0.165854, train metric: 0.942578, vali loss: 0.179037, vali metric: 0.920312\n",
            "epoch: 94, time(s): 0.4109, train loss: 0.160990, train metric: 0.945312, vali loss: 0.170062, vali metric: 0.932813\n",
            "epoch: 95, time(s): 0.3609, train loss: 0.161631, train metric: 0.942578, vali loss: 0.172673, vali metric: 0.925000\n",
            "epoch: 96, time(s): 0.3455, train loss: 0.161949, train metric: 0.944141, vali loss: 0.170609, vali metric: 0.928125\n",
            "epoch: 97, time(s): 0.5525, train loss: 0.161544, train metric: 0.942578, vali loss: 0.171197, vali metric: 0.926562\n",
            "epoch: 98, time(s): 0.6734, train loss: 0.158864, train metric: 0.944531, vali loss: 0.169611, vali metric: 0.939063\n",
            "epoch: 99, time(s): 0.7191, train loss: 0.159184, train metric: 0.944141, vali loss: 0.171954, vali metric: 0.925000\n",
            "epoch: 100, time(s): 0.6956, train loss: 0.156736, train metric: 0.944922, vali loss: 0.170245, vali metric: 0.925000\n"
          ]
        }
      ],
      "source": [
        "#training loop (in pytorch you need to write yourself it (alternatively use PyTorch Lightning for more keras-like APIs))\n",
        "import time\n",
        "epochs = 100\n",
        "\n",
        "# define a couple of lists to store loss and accuracy during training for monitoring purposes\n",
        "hist_loss = []\n",
        "hist_metric = []\n",
        "hist_val_loss = []\n",
        "hist_val_metric = []\n",
        "\n",
        "# loop over epochs\n",
        "for epoch in range(epochs):\n",
        "    t0 = time.time()\n",
        "\n",
        "    #training step\n",
        "    model.train() #important!\n",
        "    train_loss = 0.0\n",
        "    train_metric = 0.0\n",
        "    counter = 0\n",
        "    for xb, yb in dataloader_train: #loop over minibatches\n",
        "        counter += 1\n",
        "        xb=xb.type(torch.float).to(device)\n",
        "        yb=yb.type(torch.float).to(device)\n",
        "        pred = model(xb)\n",
        "        loss = loss_func(pred, torch.unsqueeze(yb,1))\n",
        "        metric = binary_accuracy(pred, torch.unsqueeze(yb,1))\n",
        "        train_loss += loss.item()\n",
        "        train_metric += metric.item()\n",
        "\n",
        "        # backpropagation\n",
        "        loss.backward()\n",
        "        opt.step()\n",
        "        opt.zero_grad()\n",
        "\n",
        "    train_loss = train_loss/counter\n",
        "    train_metric = train_metric/counter\n",
        "\n",
        "    hist_loss.append(train_loss)\n",
        "    hist_metric.append(train_metric)\n",
        "\n",
        "    # validation step\n",
        "    model.eval() #important!\n",
        "    vali_loss = 0.0\n",
        "    vali_metric = 0.0\n",
        "    counter = 0\n",
        "    with torch.no_grad():\n",
        "      for xb, yb in dataloader_vali:\n",
        "        counter += 1\n",
        "        xb=xb.type(torch.float).to(device)\n",
        "        yb=yb.type(torch.float).to(device)\n",
        "        pred = model(xb)\n",
        "        vloss = loss_func(pred, torch.unsqueeze(yb,1))\n",
        "        vmetric = binary_accuracy(pred, torch.unsqueeze(yb,1))\n",
        "        vali_loss += vloss.item()\n",
        "        vali_metric += vmetric.item()\n",
        "\n",
        "    vali_loss = vali_loss/counter\n",
        "    vali_metric = vali_metric/counter\n",
        "\n",
        "    hist_val_loss.append(vali_loss)\n",
        "    hist_val_metric.append(vali_metric)\n",
        "\n",
        "    elapsed_time = time.time()-t0\n",
        "    #current_lr = lr_scheduler.get_last_lr()[0]\n",
        "    #print(\"epoch: %d, time(s): %.4f, train loss: %.6f, train metric: %.6f, vali loss: %.6f, vali metric: %.6f, lr : %1.2e\"\n",
        "    #      % (epoch+1, elapsed_time, train_loss, train_metric, vali_loss, vali_metric, current_lr))\n",
        "    print(\"epoch: %d, time(s): %.4f, train loss: %.6f, train metric: %.6f, vali loss: %.6f, vali metric: %.6f\"\n",
        "          % (epoch+1, elapsed_time, train_loss, train_metric, vali_loss, vali_metric))\n",
        "\n",
        "    # update learning rate schedule\n",
        "    #lr_scheduler.step()"
      ]
    },
    {
      "cell_type": "code",
      "execution_count": null,
      "metadata": {
        "id": "FZyfz3ZsX5Br",
        "colab": {
          "base_uri": "https://localhost:8080/",
          "height": 642
        },
        "outputId": "2b976483-46c3-421d-dd07-2b0b11f2b68f"
      },
      "outputs": [
        {
          "output_type": "execute_result",
          "data": {
            "text/plain": [
              "<matplotlib.legend.Legend at 0x7d639b52fa30>"
            ]
          },
          "metadata": {},
          "execution_count": 18
        },
        {
          "output_type": "display_data",
          "data": {
            "text/plain": [
              "<Figure size 1000x700 with 2 Axes>"
            ],
            "image/png": "[encoded data removed]"
          },
          "metadata": {}
        }
      ],
      "source": [
        "# plot training results (loss and accuracy vs epoch)\n",
        "plt.figure(figsize=(10, 7))\n",
        "plt.subplot(1,2,1)\n",
        "plt.plot(range(1,len(hist_loss)+1), hist_loss, color='green', linestyle='-', label='train loss')\n",
        "plt.plot(range(1,len(hist_val_loss)+1), hist_val_loss, color='blue', linestyle='-', label='validation loss')\n",
        "plt.xlabel('Epochs')\n",
        "plt.ylabel('Loss')\n",
        "plt.ylim(ymin = 0.0)\n",
        "plt.legend()\n",
        "plt.subplot(1,2,2)\n",
        "plt.plot(range(1,len(hist_metric)+1), hist_metric,  color='green', linestyle='-', label='train metric')\n",
        "plt.plot(range(1,len(hist_val_metric)+1),hist_val_metric, color='blue', linestyle='-', label='validation metric')\n",
        "plt.xlabel('Epochs')\n",
        "plt.ylabel('Accuracy')\n",
        "plt.ylim(ymin = 0.0)\n",
        "plt.legend()"
      ]
    },
    {
      "cell_type": "code",
      "execution_count": null,
      "metadata": {
        "id": "Mw_C3GGq2QHa"
      },
      "outputs": [],
      "source": [
        "#test the trained model\n",
        "\n",
        "# let's test it on cpu\n",
        "model.to(torch.device(\"cpu\"))\n",
        "\n",
        "X_test_pt = X_test_pt.type(torch.float).to(torch.device(\"cpu\"))\n",
        "res = model(X_test_pt)"
      ]
    },
    {
      "cell_type": "code",
      "execution_count": null,
      "metadata": {
        "colab": {
          "base_uri": "https://localhost:8080/"
        },
        "id": "l829A8uyuRJd",
        "outputId": "12de0fe2-07dd-409e-c2fe-76da6f7a2bbe"
      },
      "outputs": [
        {
          "output_type": "stream",
          "name": "stdout",
          "text": [
            "Test accuracy:  0.9424999952316284\n"
          ]
        }
      ],
      "source": [
        "print('Test accuracy: ',binary_accuracy(res, torch.unsqueeze(Y_test_pt,1)).item())"
      ]
    },
    {
      "cell_type": "code",
      "source": [],
      "metadata": {
        "id": "CKxT3gLNyPbC"
      },
      "execution_count": null,
      "outputs": []
    }
  ],
  "metadata": {
    "colab": {
      "provenance": [],
      "include_colab_link": true
    },
    "kernelspec": {
      "display_name": "default:Python",
      "language": "python",
      "name": "conda-env-default-py"
    },
    "language_info": {
      "codemirror_mode": {
        "name": "ipython",
        "version": 3
      },
      "file_extension": ".py",
      "mimetype": "text/x-python",
      "name": "python",
      "nbconvert_exporter": "python",
      "pygments_lexer": "ipython3",
      "version": "3.9.7"
    },
    "accelerator": "GPU",
    "gpuClass": "standard"
  },
  "nbformat": 4,
  "nbformat_minor": 0
}